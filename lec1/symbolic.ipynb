{
 "cells": [
  {
   "cell_type": "code",
   "execution_count": 14,
   "metadata": {},
   "outputs": [
    {
     "name": "stdout",
     "output_type": "stream",
     "text": [
      "INFO:tensorflow:Graph was finalized.\n",
      "INFO:tensorflow:Running local_init_op.\n",
      "INFO:tensorflow:Done running local_init_op.\n",
      "Start\n",
      "None\n",
      "End\n"
     ]
    }
   ],
   "source": [
    "import tensorflow as tf\n",
    "tf.reset_default_graph()\n",
    "x = tf.Variable(initial_value=3.0)\n",
    "y = tf.cos(x)\n",
    "\n",
    "train = tf.train.GradientDescentOptimizer(learning_rate=0.01).minimize(y)\n",
    "\n",
    "with tf.train.MonitoredSession() as session:\n",
    "    \n",
    "    print(\"Start\")\n",
    "    out = session.run(tf.gradients(y,x),feed_dict=feed_dict)\n",
    "    print(\"End\")\n",
    "#     writer = tf.summary.FileWriter('logs', session.graph)\n",
    "#     writer.close()"
   ]
  },
  {
   "cell_type": "code",
   "execution_count": 46,
   "metadata": {},
   "outputs": [
    {
     "name": "stdout",
     "output_type": "stream",
     "text": [
      "[-0.9899925]\n"
     ]
    }
   ],
   "source": [
    "%matplotlib inline\n",
    "import tensorflow as tf\n",
    "import numpy as np\n",
    "from math import pi\n",
    "import matplotlib.pyplot as mp\n",
    "import seaborn\n",
    "seaborn.set()\n",
    "\n",
    "y=tf.sin(x)\n",
    "\n",
    "with tf.Session() as session:\n",
    "    out = session.run(tf.gradients(y,x),feed_dict={x:3})\n",
    "    print(out)"
   ]
  },
  {
   "cell_type": "code",
   "execution_count": null,
   "metadata": {},
   "outputs": [],
   "source": []
  }
 ],
 "metadata": {
  "kernelspec": {
   "display_name": "Python 3",
   "language": "python",
   "name": "python3"
  },
  "language_info": {
   "codemirror_mode": {
    "name": "ipython",
    "version": 3
   },
   "file_extension": ".py",
   "mimetype": "text/x-python",
   "name": "python",
   "nbconvert_exporter": "python",
   "pygments_lexer": "ipython3",
   "version": "3.6.5"
  }
 },
 "nbformat": 4,
 "nbformat_minor": 2
}
