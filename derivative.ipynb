{
 "cells": [
  {
   "cell_type": "markdown",
   "metadata": {},
   "source": [
    "# Using tf.gradient to find derivatives"
   ]
  },
  {
   "cell_type": "code",
   "execution_count": 59,
   "metadata": {},
   "outputs": [
    {
     "name": "stdout",
     "output_type": "stream",
     "text": [
      "Enter input number\n",
      "4.1\n",
      "Done inputting number\n",
      "[-0.19582547]\n",
      "0.23229685332631406\n",
      "4.1\n"
     ]
    },
    {
     "data": {
      "text/plain": [
       "[<matplotlib.lines.Line2D at 0xb23471a20>]"
      ]
     },
     "execution_count": 59,
     "metadata": {},
     "output_type": "execute_result"
    },
    {
     "data": {
      "image/png": "[encoded data removed]",
      "text/plain": [
       "<Figure size 432x288 with 1 Axes>"
      ]
     },
     "metadata": {},
     "output_type": "display_data"
    }
   ],
   "source": [
    "%matplotlib inline\n",
    "import tensorflow as tf\n",
    "import numpy as np\n",
    "from math import pi\n",
    "import matplotlib.pyplot as mp\n",
    "\n",
    "tf.reset_default_graph()\n",
    "\n",
    "# Length of graph\n",
    "length = np.linspace(0,pi*2,100)\n",
    "\n",
    "# Point at which we want to find derivative at\n",
    "x = tf.placeholder(tf.float32)\n",
    "\n",
    "# Function\n",
    "y=(1/tf.sqrt(x))*(tf.cos(x)*tf.sin(x))\n",
    "\n",
    "\n",
    "# Running tf session\n",
    "with tf.Session() as session:\n",
    "    dy  = session.run(y,feed_dict={x:length})\n",
    "    grad_out = session.run(tf.gradients(y,x),feed_dict={x:length})\n",
    "    print(\"Enter input number\")\n",
    "    input_number = float(input())\n",
    "    print(\"Done inputting number\")\n",
    "    grad_at = session.run(tf.gradients(y,x),feed_dict={x:input_number})\n",
    "    print(grad_at)\n",
    "    y_at = (1/np.sqrt(input_number))*(np.cos(input_number)*np.sin(input_number))\n",
    "    x_at = input_number\n",
    "    print(y_at)\n",
    "    print(x_at)\n",
    "    function = grad_at*(length - x_at) + y_at\n",
    "    writer = tf.summary.FileWriter('logs', session.graph)\n",
    "    writer.close()\n",
    "\n",
    "    \n",
    "mp.plot(length, function, '-r')\n",
    "mp.plot(length,dy)\n",
    "mp.plot(length,grad_out[0])"
   ]
  },
  {
   "cell_type": "markdown",
   "metadata": {},
   "source": [
    "## Graph of f(x), F(x), and tan line to f(x) at inputted point\n",
    "### Blue line is f(x)\n",
    "### Orange line is F(x)\n",
    "### Red line is f(x) at indicated point\n",
    "\n",
    "\n"
   ]
  },
  {
   "cell_type": "markdown",
   "metadata": {},
   "source": [
    "![Tensorboard of this session](https://data.suryad.com/assets/blog-tfboard-2.png)\n"
   ]
  },
  {
   "cell_type": "markdown",
   "metadata": {},
   "source": [
    "# Tensorboard of this computational graph\n",
    "\n",
    "One thing to point out: there are two gradients being computed. This is because I computed the gradient twice for graphing and for the tan line. Obviously I could fix this, but the code could be easier for some to understand if the gradient is computed twice."
   ]
  },
  {
   "cell_type": "code",
   "execution_count": null,
   "metadata": {},
   "outputs": [],
   "source": []
  }
 ],
 "metadata": {
  "kernelspec": {
   "display_name": "Python 3",
   "language": "python",
   "name": "python3"
  },
  "language_info": {
   "codemirror_mode": {
    "name": "ipython",
    "version": 3
   },
   "file_extension": ".py",
   "mimetype": "text/x-python",
   "name": "python",
   "nbconvert_exporter": "python",
   "pygments_lexer": "ipython3",
   "version": "3.6.5"
  }
 },
 "nbformat": 4,
 "nbformat_minor": 2
}
